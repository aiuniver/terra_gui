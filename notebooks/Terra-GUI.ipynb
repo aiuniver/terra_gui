{
 "nbformat": 4,
 "nbformat_minor": 0,
 "metadata": {
  "colab": {
   "name": "Terra-GUI.ipynb",
   "provenance": [],
   "collapsed_sections": []
  },
  "kernelspec": {
   "name": "python3",
   "display_name": "Python 3"
  },
  "language_info": {
   "name": "python"
  },
  "accelerator": "GPU"
 },
 "cells": [
  {
   "cell_type": "code",
   "metadata": {
    "id": "iajRGFbBRsyX",
    "pycharm": {
     "name": "#%%\n"
    },
    "cellView": "form"
   },
   "source": [
    "#@title Для авторизации введите `Email` и `Token`\n",
    "Email = \"\" #@param {type:\"string\"}\n",
    "Token = \"\" #@param {type:\"string\"}\n",
    "import requests\n",
    "\n",
    "def auth():\n",
    "  success = True\n",
    "  error = []\n",
    "  if not Email:\n",
    "    success = False\n",
    "    error.append(\"Введите Email\")\n",
    "  if not Token:\n",
    "    success = False\n",
    "    error.append(\"Введите Token\")\n",
    "  if error:\n",
    "    return {\n",
    "        \"success\":success,\n",
    "        \"error\":\"\\n\".join(error)\n",
    "    }\n",
    "  else:\n",
    "    response = requests.post(\"http://terra.neural-university.ru/api/v1/login/\", data={\"email\": Email, \"user_token\": Token})\n",
    "    return response.json()\n",
    "\n",
    "def error(message):\n",
    "  print(f\"\\033[0;31m{message}\\033[0m\")\n",
    "\n",
    "def create_file(filename, data):\n",
    "  with open(filename, \"w\") as file:\n",
    "    file.write(data)\n",
    "\n",
    "def prepare(data):\n",
    "  for value in data.values():\n",
    "    create_file(value.get(\"name\"), value.get(\"data\"))\n",
    "\n",
    "%cd /content\n",
    "try:\n",
    "  response = auth()\n",
    "  if not response.get(\"success\"):\n",
    "    error(response.get(\"error\"))\n",
    "  else:\n",
    "    !rm -rf * & rm -rf .+\n",
    "    !git clone https://github.com/aiuniver/terra_gui.git ./terra_gui &> /dev/null\n",
    "    %cd ./terra_gui\n",
    "    prepare(response.get(\"data\").get(\"create\"))\n",
    "    print(f'Для начала работы перейдите по следующей ссылке {response.get(\"data\").get(\"url\")}')\n",
    "    !make &> /dev/null\n",
    "except requests.exceptions.ConnectionError as error:\n",
    "  error(\"Ошибка соединения с сервером авторизации! Попробуйте позже...\")\n"
   ],
   "execution_count": null,
   "outputs": []
  }
 ]
}